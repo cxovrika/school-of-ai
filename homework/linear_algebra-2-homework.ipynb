{
 "cells": [
  {
   "cell_type": "code",
   "execution_count": null,
   "metadata": {},
   "outputs": [],
   "source": [
    "%load_ext autoreload\n",
    "%autoreload 2\n",
    "\n",
    "%matplotlib inline"
   ]
  },
  {
   "cell_type": "markdown",
   "metadata": {},
   "source": [
    "## Basic setup"
   ]
  },
  {
   "cell_type": "markdown",
   "metadata": {},
   "source": [
    "Create anaconda environment\n",
    "<br>\n",
    "```bash\n",
    "conda create -n ml python=3.7.4 jupyter\n",
    "```\n",
    "Install fastai library\n",
    "<br>\n",
    "```bash\n",
    "conda install -c pytorch -c fastai fastai\n",
    "```"
   ]
  },
  {
   "cell_type": "markdown",
   "metadata": {},
   "source": [
    "# Linear spaces"
   ]
  },
  {
   "cell_type": "markdown",
   "metadata": {},
   "source": [
    "#### Prove that:\n",
    "For every linear function $f:V \\to U$ between vector spaces $V$ and $U$ on the real numbers, every sequence of vectors $v_1, v_2, \\dots v_m \\in V$ and every scalars $a_1, a_2, \\dots, a_m \\in \\mathbb{R}$:\n",
    "<br>\n",
    "$$f(a_1v_1 + a_2v_2 + \\dots + a_mv_m) = a_1f(v_1) + a_2f(v_2) + \\dots + a_mf(v_m)$$"
   ]
  },
  {
   "cell_type": "markdown",
   "metadata": {},
   "source": []
  },
  {
   "cell_type": "raw",
   "metadata": {},
   "source": [
    "From linear function definition we know that f(u+v)=f(u)+f(v) and f(a*u)=a*f(u)\n",
    "\n",
    "Lets prove by induction, for base case we have n=2:\n",
    "    f(a1*v1 + a2*v2) = f(a1*v1) + f(a2*v2) = a1*f(v1) + a2f(v2)\n",
    "\n",
    "Step(holds for n=m, proving for n=m+1): \n",
    "    we have f(a1*v1 + a2v2 + ... + am * vm) = a1*f(v1) + a2*f(v2) + ... + am*f(vm)\n",
    "    \n",
    "    now, to prove for m+1:\n",
    "    f(a1*v1 + a2*v2 + ... +am*vm + a(m+1)*v(m+1)) = f((a1*v1 + a2*v2 + ... + am*vm) + a(m+1)*v(m+1)) =\n",
    "    = f(a1*v1 + a2*v2 + ... + am*vm) + f(a(m+1)*v(m+1)) = f(a1*v1 + a2*v2 + ... + an*vm) + a(m+1)*f(v(m+1))=\n",
    "    = a1*f(v1) + a2*f(v2) + ... + am*f(vm) + a(m+1)*f(v(m+1))"
   ]
  },
  {
   "cell_type": "code",
   "execution_count": null,
   "metadata": {},
   "outputs": [],
   "source": []
  },
  {
   "cell_type": "code",
   "execution_count": null,
   "metadata": {},
   "outputs": [],
   "source": []
  }
 ],
 "metadata": {
  "kernelspec": {
   "display_name": "Python 3",
   "language": "python",
   "name": "python3"
  },
  "language_info": {
   "codemirror_mode": {
    "name": "ipython",
    "version": 3
   },
   "file_extension": ".py",
   "mimetype": "text/x-python",
   "name": "python",
   "nbconvert_exporter": "python",
   "pygments_lexer": "ipython3",
   "version": "3.7.4"
  }
 },
 "nbformat": 4,
 "nbformat_minor": 4
}
